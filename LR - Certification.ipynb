{
 "cells": [
  {
   "cell_type": "code",
   "execution_count": 1,
   "metadata": {},
   "outputs": [],
   "source": [
    "#Model to find certication eligible candidate using logistic regression.\n",
    "\n",
    "#Importing libraries\n",
    "import pandas as pd\n",
    "import numpy as np\n",
    "import seaborn as sns\n",
    "import matplotlib.pyplot as plt"
   ]
  },
  {
   "cell_type": "code",
   "execution_count": 2,
   "metadata": {},
   "outputs": [],
   "source": [
    "#Getting Datafiles\n",
    "test=pd.read_csv('F:/Data science material/Additional - Projects/certifications holder/Database/Input files/test_wF0Ps6O.csv')\n",
    "train=pd.read_csv('F:/Data science material/Additional - Projects/certifications holder/Database/Input files/train_HK6lq50.csv')"
   ]
  },
  {
   "cell_type": "code",
   "execution_count": 3,
   "metadata": {},
   "outputs": [],
   "source": [
    "final_df=pd.concat([test,train],axis=0,ignore_index=True)"
   ]
  },
  {
   "cell_type": "code",
   "execution_count": 4,
   "metadata": {},
   "outputs": [
    {
     "name": "stdout",
     "output_type": "stream",
     "text": [
      "<class 'pandas.core.frame.DataFrame'>\n",
      "RangeIndex: 104496 entries, 0 to 104495\n",
      "Data columns (total 16 columns):\n",
      " #   Column                     Non-Null Count   Dtype  \n",
      "---  ------                     --------------   -----  \n",
      " 0   id                         104496 non-null  object \n",
      " 1   program_id                 104496 non-null  object \n",
      " 2   program_type               104496 non-null  object \n",
      " 3   program_duration           104496 non-null  int64  \n",
      " 4   test_id                    104496 non-null  int64  \n",
      " 5   test_type                  104496 non-null  object \n",
      " 6   difficulty_level           104496 non-null  object \n",
      " 7   trainee_id                 104496 non-null  int64  \n",
      " 8   gender                     104496 non-null  object \n",
      " 9   education                  104496 non-null  object \n",
      " 10  city_tier                  104496 non-null  int64  \n",
      " 11  age                        64976 non-null   float64\n",
      " 12  total_programs_enrolled    104496 non-null  int64  \n",
      " 13  is_handicapped             104496 non-null  object \n",
      " 14  trainee_engagement_rating  104388 non-null  float64\n",
      " 15  is_pass                    73147 non-null   float64\n",
      "dtypes: float64(3), int64(5), object(8)\n",
      "memory usage: 12.8+ MB\n"
     ]
    }
   ],
   "source": [
    "final_df.info()"
   ]
  },
  {
   "cell_type": "code",
   "execution_count": 5,
   "metadata": {},
   "outputs": [
    {
     "data": {
      "text/html": [
       "<div>\n",
       "<style scoped>\n",
       "    .dataframe tbody tr th:only-of-type {\n",
       "        vertical-align: middle;\n",
       "    }\n",
       "\n",
       "    .dataframe tbody tr th {\n",
       "        vertical-align: top;\n",
       "    }\n",
       "\n",
       "    .dataframe thead th {\n",
       "        text-align: right;\n",
       "    }\n",
       "</style>\n",
       "<table border=\"1\" class=\"dataframe\">\n",
       "  <thead>\n",
       "    <tr style=\"text-align: right;\">\n",
       "      <th></th>\n",
       "      <th>program_duration</th>\n",
       "      <th>test_id</th>\n",
       "      <th>trainee_id</th>\n",
       "      <th>city_tier</th>\n",
       "      <th>age</th>\n",
       "      <th>total_programs_enrolled</th>\n",
       "      <th>trainee_engagement_rating</th>\n",
       "      <th>is_pass</th>\n",
       "    </tr>\n",
       "  </thead>\n",
       "  <tbody>\n",
       "    <tr>\n",
       "      <th>count</th>\n",
       "      <td>104496.000000</td>\n",
       "      <td>104496.000000</td>\n",
       "      <td>104496.000000</td>\n",
       "      <td>104496.000000</td>\n",
       "      <td>64976.000000</td>\n",
       "      <td>104496.000000</td>\n",
       "      <td>104388.000000</td>\n",
       "      <td>73147.000000</td>\n",
       "    </tr>\n",
       "    <tr>\n",
       "      <th>mean</th>\n",
       "      <td>128.209386</td>\n",
       "      <td>90.937672</td>\n",
       "      <td>9846.168045</td>\n",
       "      <td>2.248478</td>\n",
       "      <td>36.478038</td>\n",
       "      <td>2.586223</td>\n",
       "      <td>2.397776</td>\n",
       "      <td>0.695408</td>\n",
       "    </tr>\n",
       "    <tr>\n",
       "      <th>std</th>\n",
       "      <td>6.892792</td>\n",
       "      <td>51.219793</td>\n",
       "      <td>5706.697072</td>\n",
       "      <td>1.011789</td>\n",
       "      <td>9.045325</td>\n",
       "      <td>1.238415</td>\n",
       "      <td>1.327130</td>\n",
       "      <td>0.460238</td>\n",
       "    </tr>\n",
       "    <tr>\n",
       "      <th>min</th>\n",
       "      <td>117.000000</td>\n",
       "      <td>0.000000</td>\n",
       "      <td>1.000000</td>\n",
       "      <td>1.000000</td>\n",
       "      <td>17.000000</td>\n",
       "      <td>1.000000</td>\n",
       "      <td>1.000000</td>\n",
       "      <td>0.000000</td>\n",
       "    </tr>\n",
       "    <tr>\n",
       "      <th>25%</th>\n",
       "      <td>121.000000</td>\n",
       "      <td>45.000000</td>\n",
       "      <td>5041.000000</td>\n",
       "      <td>1.000000</td>\n",
       "      <td>28.000000</td>\n",
       "      <td>2.000000</td>\n",
       "      <td>1.000000</td>\n",
       "      <td>0.000000</td>\n",
       "    </tr>\n",
       "    <tr>\n",
       "      <th>50%</th>\n",
       "      <td>131.000000</td>\n",
       "      <td>90.000000</td>\n",
       "      <td>9648.500000</td>\n",
       "      <td>2.000000</td>\n",
       "      <td>39.000000</td>\n",
       "      <td>2.000000</td>\n",
       "      <td>2.000000</td>\n",
       "      <td>1.000000</td>\n",
       "    </tr>\n",
       "    <tr>\n",
       "      <th>75%</th>\n",
       "      <td>134.000000</td>\n",
       "      <td>135.000000</td>\n",
       "      <td>14555.250000</td>\n",
       "      <td>3.000000</td>\n",
       "      <td>45.000000</td>\n",
       "      <td>3.000000</td>\n",
       "      <td>4.000000</td>\n",
       "      <td>1.000000</td>\n",
       "    </tr>\n",
       "    <tr>\n",
       "      <th>max</th>\n",
       "      <td>136.000000</td>\n",
       "      <td>187.000000</td>\n",
       "      <td>20098.000000</td>\n",
       "      <td>4.000000</td>\n",
       "      <td>63.000000</td>\n",
       "      <td>14.000000</td>\n",
       "      <td>5.000000</td>\n",
       "      <td>1.000000</td>\n",
       "    </tr>\n",
       "  </tbody>\n",
       "</table>\n",
       "</div>"
      ],
      "text/plain": [
       "       program_duration        test_id     trainee_id      city_tier  \\\n",
       "count     104496.000000  104496.000000  104496.000000  104496.000000   \n",
       "mean         128.209386      90.937672    9846.168045       2.248478   \n",
       "std            6.892792      51.219793    5706.697072       1.011789   \n",
       "min          117.000000       0.000000       1.000000       1.000000   \n",
       "25%          121.000000      45.000000    5041.000000       1.000000   \n",
       "50%          131.000000      90.000000    9648.500000       2.000000   \n",
       "75%          134.000000     135.000000   14555.250000       3.000000   \n",
       "max          136.000000     187.000000   20098.000000       4.000000   \n",
       "\n",
       "                age  total_programs_enrolled  trainee_engagement_rating  \\\n",
       "count  64976.000000            104496.000000              104388.000000   \n",
       "mean      36.478038                 2.586223                   2.397776   \n",
       "std        9.045325                 1.238415                   1.327130   \n",
       "min       17.000000                 1.000000                   1.000000   \n",
       "25%       28.000000                 2.000000                   1.000000   \n",
       "50%       39.000000                 2.000000                   2.000000   \n",
       "75%       45.000000                 3.000000                   4.000000   \n",
       "max       63.000000                14.000000                   5.000000   \n",
       "\n",
       "            is_pass  \n",
       "count  73147.000000  \n",
       "mean       0.695408  \n",
       "std        0.460238  \n",
       "min        0.000000  \n",
       "25%        0.000000  \n",
       "50%        1.000000  \n",
       "75%        1.000000  \n",
       "max        1.000000  "
      ]
     },
     "execution_count": 5,
     "metadata": {},
     "output_type": "execute_result"
    }
   ],
   "source": [
    "final_df.describe()"
   ]
  },
  {
   "cell_type": "code",
   "execution_count": 6,
   "metadata": {},
   "outputs": [
    {
     "data": {
      "text/html": [
       "<div>\n",
       "<style scoped>\n",
       "    .dataframe tbody tr th:only-of-type {\n",
       "        vertical-align: middle;\n",
       "    }\n",
       "\n",
       "    .dataframe tbody tr th {\n",
       "        vertical-align: top;\n",
       "    }\n",
       "\n",
       "    .dataframe thead th {\n",
       "        text-align: right;\n",
       "    }\n",
       "</style>\n",
       "<table border=\"1\" class=\"dataframe\">\n",
       "  <thead>\n",
       "    <tr style=\"text-align: right;\">\n",
       "      <th></th>\n",
       "      <th>Total</th>\n",
       "      <th>%</th>\n",
       "    </tr>\n",
       "  </thead>\n",
       "  <tbody>\n",
       "    <tr>\n",
       "      <th>id</th>\n",
       "      <td>0</td>\n",
       "      <td>0.00</td>\n",
       "    </tr>\n",
       "    <tr>\n",
       "      <th>program_id</th>\n",
       "      <td>0</td>\n",
       "      <td>0.00</td>\n",
       "    </tr>\n",
       "    <tr>\n",
       "      <th>program_type</th>\n",
       "      <td>0</td>\n",
       "      <td>0.00</td>\n",
       "    </tr>\n",
       "    <tr>\n",
       "      <th>program_duration</th>\n",
       "      <td>0</td>\n",
       "      <td>0.00</td>\n",
       "    </tr>\n",
       "    <tr>\n",
       "      <th>test_id</th>\n",
       "      <td>0</td>\n",
       "      <td>0.00</td>\n",
       "    </tr>\n",
       "    <tr>\n",
       "      <th>test_type</th>\n",
       "      <td>0</td>\n",
       "      <td>0.00</td>\n",
       "    </tr>\n",
       "    <tr>\n",
       "      <th>difficulty_level</th>\n",
       "      <td>0</td>\n",
       "      <td>0.00</td>\n",
       "    </tr>\n",
       "    <tr>\n",
       "      <th>trainee_id</th>\n",
       "      <td>0</td>\n",
       "      <td>0.00</td>\n",
       "    </tr>\n",
       "    <tr>\n",
       "      <th>gender</th>\n",
       "      <td>0</td>\n",
       "      <td>0.00</td>\n",
       "    </tr>\n",
       "    <tr>\n",
       "      <th>education</th>\n",
       "      <td>0</td>\n",
       "      <td>0.00</td>\n",
       "    </tr>\n",
       "    <tr>\n",
       "      <th>city_tier</th>\n",
       "      <td>0</td>\n",
       "      <td>0.00</td>\n",
       "    </tr>\n",
       "    <tr>\n",
       "      <th>age</th>\n",
       "      <td>39520</td>\n",
       "      <td>37.82</td>\n",
       "    </tr>\n",
       "    <tr>\n",
       "      <th>total_programs_enrolled</th>\n",
       "      <td>0</td>\n",
       "      <td>0.00</td>\n",
       "    </tr>\n",
       "    <tr>\n",
       "      <th>is_handicapped</th>\n",
       "      <td>0</td>\n",
       "      <td>0.00</td>\n",
       "    </tr>\n",
       "    <tr>\n",
       "      <th>trainee_engagement_rating</th>\n",
       "      <td>108</td>\n",
       "      <td>0.10</td>\n",
       "    </tr>\n",
       "    <tr>\n",
       "      <th>is_pass</th>\n",
       "      <td>31349</td>\n",
       "      <td>30.00</td>\n",
       "    </tr>\n",
       "  </tbody>\n",
       "</table>\n",
       "</div>"
      ],
      "text/plain": [
       "                           Total      %\n",
       "id                             0   0.00\n",
       "program_id                     0   0.00\n",
       "program_type                   0   0.00\n",
       "program_duration               0   0.00\n",
       "test_id                        0   0.00\n",
       "test_type                      0   0.00\n",
       "difficulty_level               0   0.00\n",
       "trainee_id                     0   0.00\n",
       "gender                         0   0.00\n",
       "education                      0   0.00\n",
       "city_tier                      0   0.00\n",
       "age                        39520  37.82\n",
       "total_programs_enrolled        0   0.00\n",
       "is_handicapped                 0   0.00\n",
       "trainee_engagement_rating    108   0.10\n",
       "is_pass                    31349  30.00"
      ]
     },
     "execution_count": 6,
     "metadata": {},
     "output_type": "execute_result"
    }
   ],
   "source": [
    "#Displaying total no. of null values\n",
    "total1=final_df.isnull().sum()\n",
    "total2=final_df.isnull().count()\n",
    "Missing_value=round(((total1/total2)*100),2)\n",
    "Missing_value_df=pd.concat([total1, Missing_value], axis=1, keys=['Total', '%'])\n",
    "Missing_value_df"
   ]
  },
  {
   "cell_type": "code",
   "execution_count": 7,
   "metadata": {},
   "outputs": [
    {
     "data": {
      "text/html": [
       "<div>\n",
       "<style scoped>\n",
       "    .dataframe tbody tr th:only-of-type {\n",
       "        vertical-align: middle;\n",
       "    }\n",
       "\n",
       "    .dataframe tbody tr th {\n",
       "        vertical-align: top;\n",
       "    }\n",
       "\n",
       "    .dataframe thead th {\n",
       "        text-align: right;\n",
       "    }\n",
       "</style>\n",
       "<table border=\"1\" class=\"dataframe\">\n",
       "  <thead>\n",
       "    <tr style=\"text-align: right;\">\n",
       "      <th></th>\n",
       "      <th>program_duration</th>\n",
       "      <th>test_id</th>\n",
       "      <th>trainee_id</th>\n",
       "      <th>city_tier</th>\n",
       "      <th>age</th>\n",
       "      <th>total_programs_enrolled</th>\n",
       "      <th>trainee_engagement_rating</th>\n",
       "      <th>is_pass</th>\n",
       "    </tr>\n",
       "  </thead>\n",
       "  <tbody>\n",
       "    <tr>\n",
       "      <th>program_duration</th>\n",
       "      <td>1.000000</td>\n",
       "      <td>0.203368</td>\n",
       "      <td>0.149458</td>\n",
       "      <td>-0.024032</td>\n",
       "      <td>-0.019115</td>\n",
       "      <td>-0.005856</td>\n",
       "      <td>0.097955</td>\n",
       "      <td>0.003545</td>\n",
       "    </tr>\n",
       "    <tr>\n",
       "      <th>test_id</th>\n",
       "      <td>0.203368</td>\n",
       "      <td>1.000000</td>\n",
       "      <td>0.148954</td>\n",
       "      <td>-0.002392</td>\n",
       "      <td>-0.024096</td>\n",
       "      <td>-0.134765</td>\n",
       "      <td>0.326308</td>\n",
       "      <td>0.074568</td>\n",
       "    </tr>\n",
       "    <tr>\n",
       "      <th>trainee_id</th>\n",
       "      <td>0.149458</td>\n",
       "      <td>0.148954</td>\n",
       "      <td>1.000000</td>\n",
       "      <td>-0.011085</td>\n",
       "      <td>0.111596</td>\n",
       "      <td>-0.074000</td>\n",
       "      <td>0.029881</td>\n",
       "      <td>0.035900</td>\n",
       "    </tr>\n",
       "    <tr>\n",
       "      <th>city_tier</th>\n",
       "      <td>-0.024032</td>\n",
       "      <td>-0.002392</td>\n",
       "      <td>-0.011085</td>\n",
       "      <td>1.000000</td>\n",
       "      <td>-0.070272</td>\n",
       "      <td>0.017320</td>\n",
       "      <td>-0.049050</td>\n",
       "      <td>-0.068663</td>\n",
       "    </tr>\n",
       "    <tr>\n",
       "      <th>age</th>\n",
       "      <td>-0.019115</td>\n",
       "      <td>-0.024096</td>\n",
       "      <td>0.111596</td>\n",
       "      <td>-0.070272</td>\n",
       "      <td>1.000000</td>\n",
       "      <td>-0.070354</td>\n",
       "      <td>0.185237</td>\n",
       "      <td>0.073969</td>\n",
       "    </tr>\n",
       "    <tr>\n",
       "      <th>total_programs_enrolled</th>\n",
       "      <td>-0.005856</td>\n",
       "      <td>-0.134765</td>\n",
       "      <td>-0.074000</td>\n",
       "      <td>0.017320</td>\n",
       "      <td>-0.070354</td>\n",
       "      <td>1.000000</td>\n",
       "      <td>0.083041</td>\n",
       "      <td>-0.031695</td>\n",
       "    </tr>\n",
       "    <tr>\n",
       "      <th>trainee_engagement_rating</th>\n",
       "      <td>0.097955</td>\n",
       "      <td>0.326308</td>\n",
       "      <td>0.029881</td>\n",
       "      <td>-0.049050</td>\n",
       "      <td>0.185237</td>\n",
       "      <td>0.083041</td>\n",
       "      <td>1.000000</td>\n",
       "      <td>0.197383</td>\n",
       "    </tr>\n",
       "    <tr>\n",
       "      <th>is_pass</th>\n",
       "      <td>0.003545</td>\n",
       "      <td>0.074568</td>\n",
       "      <td>0.035900</td>\n",
       "      <td>-0.068663</td>\n",
       "      <td>0.073969</td>\n",
       "      <td>-0.031695</td>\n",
       "      <td>0.197383</td>\n",
       "      <td>1.000000</td>\n",
       "    </tr>\n",
       "  </tbody>\n",
       "</table>\n",
       "</div>"
      ],
      "text/plain": [
       "                           program_duration   test_id  trainee_id  city_tier  \\\n",
       "program_duration                   1.000000  0.203368    0.149458  -0.024032   \n",
       "test_id                            0.203368  1.000000    0.148954  -0.002392   \n",
       "trainee_id                         0.149458  0.148954    1.000000  -0.011085   \n",
       "city_tier                         -0.024032 -0.002392   -0.011085   1.000000   \n",
       "age                               -0.019115 -0.024096    0.111596  -0.070272   \n",
       "total_programs_enrolled           -0.005856 -0.134765   -0.074000   0.017320   \n",
       "trainee_engagement_rating          0.097955  0.326308    0.029881  -0.049050   \n",
       "is_pass                            0.003545  0.074568    0.035900  -0.068663   \n",
       "\n",
       "                                age  total_programs_enrolled  \\\n",
       "program_duration          -0.019115                -0.005856   \n",
       "test_id                   -0.024096                -0.134765   \n",
       "trainee_id                 0.111596                -0.074000   \n",
       "city_tier                 -0.070272                 0.017320   \n",
       "age                        1.000000                -0.070354   \n",
       "total_programs_enrolled   -0.070354                 1.000000   \n",
       "trainee_engagement_rating  0.185237                 0.083041   \n",
       "is_pass                    0.073969                -0.031695   \n",
       "\n",
       "                           trainee_engagement_rating   is_pass  \n",
       "program_duration                            0.097955  0.003545  \n",
       "test_id                                     0.326308  0.074568  \n",
       "trainee_id                                  0.029881  0.035900  \n",
       "city_tier                                  -0.049050 -0.068663  \n",
       "age                                         0.185237  0.073969  \n",
       "total_programs_enrolled                     0.083041 -0.031695  \n",
       "trainee_engagement_rating                   1.000000  0.197383  \n",
       "is_pass                                     0.197383  1.000000  "
      ]
     },
     "execution_count": 7,
     "metadata": {},
     "output_type": "execute_result"
    }
   ],
   "source": [
    "corr = final_df.corr()\n",
    "corr"
   ]
  },
  {
   "cell_type": "code",
   "execution_count": 8,
   "metadata": {},
   "outputs": [
    {
     "data": {
      "text/plain": [
       "<matplotlib.axes._subplots.AxesSubplot at 0x23404e625c8>"
      ]
     },
     "execution_count": 8,
     "metadata": {},
     "output_type": "execute_result"
    },
    {
     "data": {
      "image/png": "[encoded data removed]",
      "text/plain": [
       "<Figure size 432x288 with 1 Axes>"
      ]
     },
     "metadata": {
      "needs_background": "light"
     },
     "output_type": "display_data"
    }
   ],
   "source": [
    "sns.distplot(final_df['age'],bins=50)"
   ]
  },
  {
   "cell_type": "code",
   "execution_count": 9,
   "metadata": {},
   "outputs": [
    {
     "name": "stdout",
     "output_type": "stream",
     "text": [
      "Unique value of  id : 104496\n",
      "Unique value of  program_id : 22\n",
      "Unique value of  program_type : 7\n",
      "Unique value of  program_duration : 10\n",
      "Unique value of  test_id : 188\n",
      "Unique value of  test_type : 2\n",
      "Unique value of  difficulty_level : 4\n",
      "Unique value of  trainee_id : 19422\n",
      "Unique value of  gender : 2\n",
      "Unique value of  education : 5\n",
      "Unique value of  city_tier : 4\n",
      "Unique value of  age : 39565\n",
      "Unique value of  total_programs_enrolled : 13\n",
      "Unique value of  is_handicapped : 2\n",
      "Unique value of  trainee_engagement_rating : 113\n",
      "Unique value of  is_pass : 31351\n"
     ]
    }
   ],
   "source": [
    "column=final_df.columns\n",
    "for x in column:\n",
    "    unique_values= len(np.unique(final_df[x],return_counts=False))\n",
    "    print('Unique value of ' , x , ':' ,unique_values)"
   ]
  },
  {
   "cell_type": "code",
   "execution_count": 10,
   "metadata": {},
   "outputs": [],
   "source": [
    "final_df=final_df.drop(['id'],axis=1)"
   ]
  },
  {
   "cell_type": "code",
   "execution_count": 11,
   "metadata": {},
   "outputs": [],
   "source": [
    "#filling empty values\n",
    "final_df['age'] = final_df['age'].fillna(final_df.age.mean())\n",
    "final_df['trainee_engagement_rating'] = final_df['trainee_engagement_rating'].fillna(final_df.trainee_engagement_rating.median())"
   ]
  },
  {
   "cell_type": "code",
   "execution_count": 12,
   "metadata": {},
   "outputs": [],
   "source": [
    "final_df['age'] = final_df['age'].astype(float)\n",
    "final_df.loc[final_df['age'] < 18, 'Categories'] = 'Children'\n",
    "final_df.loc[(final_df['age'] >= 18) & (final_df['age'] <= 35), 'Categories'] = 'Young Adults'\n",
    "final_df.loc[(final_df['age'] > 35) & (final_df['age'] <= 55), 'Categories'] = 'Middle-Aged Adults'\n",
    "final_df.loc[final_df['age'] > 55, 'Categories'] = 'Older Adults'\n",
    "final_df['Categories']\n",
    "Age_Mapping = {'Children' : 1, 'Young Adults' : 2, 'Middle-Aged Adults' : 3, 'Older Adults' : 4}\n",
    "final_df['New_Age'] = final_df['Categories'].map(Age_Mapping)"
   ]
  },
  {
   "cell_type": "code",
   "execution_count": 13,
   "metadata": {},
   "outputs": [],
   "source": [
    "final_df=final_df.drop(['Categories','age','test_id','trainee_id'],axis=1)"
   ]
  },
  {
   "cell_type": "code",
   "execution_count": 14,
   "metadata": {},
   "outputs": [],
   "source": [
    "Duration_Mapping={117 : 1, 120 : 2, 121 : 3, 122 : 4, 130 : 5, 131 : 6, 133 : 7, 134 : 8, 135 : 9, 136 : 10}\n",
    "final_df['program_duration']=final_df['program_duration'].map(Duration_Mapping)"
   ]
  },
  {
   "cell_type": "code",
   "execution_count": 15,
   "metadata": {},
   "outputs": [],
   "source": [
    "final_df=pd.get_dummies(final_df,columns=['difficulty_level','education','gender','program_id','program_type','test_type','is_handicapped'])"
   ]
  },
  {
   "cell_type": "code",
   "execution_count": 16,
   "metadata": {},
   "outputs": [],
   "source": [
    "final_df['trainee_engagement_rating']=final_df['trainee_engagement_rating'].astype(int)"
   ]
  },
  {
   "cell_type": "code",
   "execution_count": 17,
   "metadata": {},
   "outputs": [],
   "source": [
    "Test_data = final_df.iloc[:31349,:]\n",
    "Train_data = final_df.iloc[31349:,:]"
   ]
  },
  {
   "cell_type": "code",
   "execution_count": 18,
   "metadata": {},
   "outputs": [],
   "source": [
    "Final_test = Test_data.drop(['is_pass'],axis=1)\n",
    "train_Target = Train_data['is_pass'].astype(int)\n",
    "train_Predictors = Train_data.drop(['is_pass'],axis=1)"
   ]
  },
  {
   "cell_type": "code",
   "execution_count": 19,
   "metadata": {},
   "outputs": [],
   "source": [
    "from sklearn.model_selection import train_test_split\n",
    "x_train,x_test,y_train,y_test = train_test_split(train_Predictors, train_Target, test_size=0.25, random_state=30)"
   ]
  },
  {
   "cell_type": "code",
   "execution_count": 20,
   "metadata": {},
   "outputs": [],
   "source": [
    "# Module Algorithms\n",
    "from sklearn.linear_model import LogisticRegression\n",
    "from sklearn.metrics import accuracy_score\n",
    "from sklearn.metrics import confusion_matrix"
   ]
  },
  {
   "cell_type": "code",
   "execution_count": 21,
   "metadata": {},
   "outputs": [
    {
     "name": "stderr",
     "output_type": "stream",
     "text": [
      "C:\\Users\\Mari\\anaconda3\\lib\\site-packages\\sklearn\\linear_model\\_logistic.py:940: ConvergenceWarning: lbfgs failed to converge (status=1):\n",
      "STOP: TOTAL NO. of ITERATIONS REACHED LIMIT.\n",
      "\n",
      "Increase the number of iterations (max_iter) or scale the data as shown in:\n",
      "    https://scikit-learn.org/stable/modules/preprocessing.html\n",
      "Please also refer to the documentation for alternative solver options:\n",
      "    https://scikit-learn.org/stable/modules/linear_model.html#logistic-regression\n",
      "  extra_warning_msg=_LOGISTIC_SOLVER_CONVERGENCE_MSG)\n"
     ]
    },
    {
     "data": {
      "text/plain": [
       "array([[ 1305,  4234],\n",
       "       [  879, 11869]], dtype=int64)"
      ]
     },
     "execution_count": 21,
     "metadata": {},
     "output_type": "execute_result"
    }
   ],
   "source": [
    "#Logistic Regression\n",
    "LogReg = LogisticRegression()\n",
    "LogReg.fit(x_train,y_train)\n",
    "\n",
    "y_pred = LogReg.predict(x_test)\n",
    "cm = confusion_matrix(y_test,y_pred)\n",
    "cm"
   ]
  },
  {
   "cell_type": "code",
   "execution_count": 22,
   "metadata": {},
   "outputs": [],
   "source": [
    "y_pred_LR = LogReg.predict_proba(x_test)[:,1]"
   ]
  },
  {
   "cell_type": "code",
   "execution_count": 23,
   "metadata": {},
   "outputs": [],
   "source": [
    "from sklearn.metrics import roc_curve\n",
    "from sklearn.metrics import roc_auc_score\n",
    "from sklearn.metrics import auc"
   ]
  },
  {
   "cell_type": "code",
   "execution_count": 24,
   "metadata": {},
   "outputs": [
    {
     "data": {
      "image/png": "[encoded data removed]",
      "text/plain": [
       "<Figure size 500x500 with 1 Axes>"
      ]
     },
     "metadata": {
      "needs_background": "light"
     },
     "output_type": "display_data"
    }
   ],
   "source": [
    "roc_auc_LR = roc_auc_score(y_test, y_pred_LR)\n",
    "LR_fpr, LR_tpr, threshold = roc_curve(y_test, y_pred_LR)\n",
    "auc_lr=auc(LR_fpr,LR_tpr)\n",
    "\n",
    "plt.figure(figsize=(5,5),dpi=100)\n",
    "plt.plot(LR_fpr,LR_tpr,linestyle='--', label='Logistic regression (auc = %0.3f)' % auc_lr)\n",
    "\n",
    "plt.xlabel('False positive rate')\n",
    "plt.ylabel('True positive rate')\n",
    "plt.legend()\n",
    "plt.show()\n"
   ]
  }
 ],
 "metadata": {
  "kernelspec": {
   "display_name": "Python 3",
   "language": "python",
   "name": "python3"
  },
  "language_info": {
   "codemirror_mode": {
    "name": "ipython",
    "version": 3
   },
   "file_extension": ".py",
   "mimetype": "text/x-python",
   "name": "python",
   "nbconvert_exporter": "python",
   "pygments_lexer": "ipython3",
   "version": "3.7.6"
  }
 },
 "nbformat": 4,
 "nbformat_minor": 2
}
