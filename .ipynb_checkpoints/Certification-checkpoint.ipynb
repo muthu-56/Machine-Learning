{
 "cells": [
  {
   "cell_type": "code",
   "execution_count": 2,
   "metadata": {},
   "outputs": [],
   "source": [
    "import pandas as pd\n",
    "import numpy as np\n",
    "import seaborn as sns\n",
    "import matplotlib.pyplot as plt"
   ]
  },
  {
   "cell_type": "code",
   "execution_count": 3,
   "metadata": {},
   "outputs": [],
   "source": [
    "test=pd.read_csv('G:/Data science material/Additional - Projects/certifications holder/Database/Input files/test_wF0Ps6O.csv')\n",
    "train=pd.read_csv('G:/Data science material/Additional - Projects/certifications holder/Database/Input files/train_HK6lq50.csv')"
   ]
  },
  {
   "cell_type": "code",
   "execution_count": 4,
   "metadata": {},
   "outputs": [
    {
     "name": "stderr",
     "output_type": "stream",
     "text": [
      "C:\\Users\\Muthu\\Anaconda3\\lib\\site-packages\\ipykernel_launcher.py:1: FutureWarning: Sorting because non-concatenation axis is not aligned. A future version\n",
      "of pandas will change to not sort by default.\n",
      "\n",
      "To accept the future behavior, pass 'sort=False'.\n",
      "\n",
      "To retain the current behavior and silence the warning, pass 'sort=True'.\n",
      "\n",
      "  \"\"\"Entry point for launching an IPython kernel.\n"
     ]
    }
   ],
   "source": [
    "final_df=pd.concat([test,train],axis=0,ignore_index=True)"
   ]
  },
  {
   "cell_type": "code",
   "execution_count": 5,
   "metadata": {},
   "outputs": [
    {
     "name": "stdout",
     "output_type": "stream",
     "text": [
      "<class 'pandas.core.frame.DataFrame'>\n",
      "RangeIndex: 104496 entries, 0 to 104495\n",
      "Data columns (total 16 columns):\n",
      "age                          64976 non-null float64\n",
      "city_tier                    104496 non-null int64\n",
      "difficulty_level             104496 non-null object\n",
      "education                    104496 non-null object\n",
      "gender                       104496 non-null object\n",
      "id                           104496 non-null object\n",
      "is_handicapped               104496 non-null object\n",
      "is_pass                      73147 non-null float64\n",
      "program_duration             104496 non-null int64\n",
      "program_id                   104496 non-null object\n",
      "program_type                 104496 non-null object\n",
      "test_id                      104496 non-null int64\n",
      "test_type                    104496 non-null object\n",
      "total_programs_enrolled      104496 non-null int64\n",
      "trainee_engagement_rating    104388 non-null float64\n",
      "trainee_id                   104496 non-null int64\n",
      "dtypes: float64(3), int64(5), object(8)\n",
      "memory usage: 9.6+ MB\n"
     ]
    }
   ],
   "source": [
    "final_df.info()"
   ]
  },
  {
   "cell_type": "code",
   "execution_count": 6,
   "metadata": {},
   "outputs": [
    {
     "data": {
      "text/html": [
       "<div>\n",
       "<style scoped>\n",
       "    .dataframe tbody tr th:only-of-type {\n",
       "        vertical-align: middle;\n",
       "    }\n",
       "\n",
       "    .dataframe tbody tr th {\n",
       "        vertical-align: top;\n",
       "    }\n",
       "\n",
       "    .dataframe thead th {\n",
       "        text-align: right;\n",
       "    }\n",
       "</style>\n",
       "<table border=\"1\" class=\"dataframe\">\n",
       "  <thead>\n",
       "    <tr style=\"text-align: right;\">\n",
       "      <th></th>\n",
       "      <th>age</th>\n",
       "      <th>city_tier</th>\n",
       "      <th>is_pass</th>\n",
       "      <th>program_duration</th>\n",
       "      <th>test_id</th>\n",
       "      <th>total_programs_enrolled</th>\n",
       "      <th>trainee_engagement_rating</th>\n",
       "      <th>trainee_id</th>\n",
       "    </tr>\n",
       "  </thead>\n",
       "  <tbody>\n",
       "    <tr>\n",
       "      <td>count</td>\n",
       "      <td>64976.000000</td>\n",
       "      <td>104496.000000</td>\n",
       "      <td>73147.000000</td>\n",
       "      <td>104496.000000</td>\n",
       "      <td>104496.000000</td>\n",
       "      <td>104496.000000</td>\n",
       "      <td>104388.000000</td>\n",
       "      <td>104496.000000</td>\n",
       "    </tr>\n",
       "    <tr>\n",
       "      <td>mean</td>\n",
       "      <td>36.478038</td>\n",
       "      <td>2.248478</td>\n",
       "      <td>0.695408</td>\n",
       "      <td>128.209386</td>\n",
       "      <td>90.937672</td>\n",
       "      <td>2.586223</td>\n",
       "      <td>2.397776</td>\n",
       "      <td>9846.168045</td>\n",
       "    </tr>\n",
       "    <tr>\n",
       "      <td>std</td>\n",
       "      <td>9.045325</td>\n",
       "      <td>1.011789</td>\n",
       "      <td>0.460238</td>\n",
       "      <td>6.892792</td>\n",
       "      <td>51.219793</td>\n",
       "      <td>1.238415</td>\n",
       "      <td>1.327130</td>\n",
       "      <td>5706.697072</td>\n",
       "    </tr>\n",
       "    <tr>\n",
       "      <td>min</td>\n",
       "      <td>17.000000</td>\n",
       "      <td>1.000000</td>\n",
       "      <td>0.000000</td>\n",
       "      <td>117.000000</td>\n",
       "      <td>0.000000</td>\n",
       "      <td>1.000000</td>\n",
       "      <td>1.000000</td>\n",
       "      <td>1.000000</td>\n",
       "    </tr>\n",
       "    <tr>\n",
       "      <td>25%</td>\n",
       "      <td>28.000000</td>\n",
       "      <td>1.000000</td>\n",
       "      <td>0.000000</td>\n",
       "      <td>121.000000</td>\n",
       "      <td>45.000000</td>\n",
       "      <td>2.000000</td>\n",
       "      <td>1.000000</td>\n",
       "      <td>5041.000000</td>\n",
       "    </tr>\n",
       "    <tr>\n",
       "      <td>50%</td>\n",
       "      <td>39.000000</td>\n",
       "      <td>2.000000</td>\n",
       "      <td>1.000000</td>\n",
       "      <td>131.000000</td>\n",
       "      <td>90.000000</td>\n",
       "      <td>2.000000</td>\n",
       "      <td>2.000000</td>\n",
       "      <td>9648.500000</td>\n",
       "    </tr>\n",
       "    <tr>\n",
       "      <td>75%</td>\n",
       "      <td>45.000000</td>\n",
       "      <td>3.000000</td>\n",
       "      <td>1.000000</td>\n",
       "      <td>134.000000</td>\n",
       "      <td>135.000000</td>\n",
       "      <td>3.000000</td>\n",
       "      <td>4.000000</td>\n",
       "      <td>14555.250000</td>\n",
       "    </tr>\n",
       "    <tr>\n",
       "      <td>max</td>\n",
       "      <td>63.000000</td>\n",
       "      <td>4.000000</td>\n",
       "      <td>1.000000</td>\n",
       "      <td>136.000000</td>\n",
       "      <td>187.000000</td>\n",
       "      <td>14.000000</td>\n",
       "      <td>5.000000</td>\n",
       "      <td>20098.000000</td>\n",
       "    </tr>\n",
       "  </tbody>\n",
       "</table>\n",
       "</div>"
      ],
      "text/plain": [
       "                age      city_tier       is_pass  program_duration  \\\n",
       "count  64976.000000  104496.000000  73147.000000     104496.000000   \n",
       "mean      36.478038       2.248478      0.695408        128.209386   \n",
       "std        9.045325       1.011789      0.460238          6.892792   \n",
       "min       17.000000       1.000000      0.000000        117.000000   \n",
       "25%       28.000000       1.000000      0.000000        121.000000   \n",
       "50%       39.000000       2.000000      1.000000        131.000000   \n",
       "75%       45.000000       3.000000      1.000000        134.000000   \n",
       "max       63.000000       4.000000      1.000000        136.000000   \n",
       "\n",
       "             test_id  total_programs_enrolled  trainee_engagement_rating  \\\n",
       "count  104496.000000            104496.000000              104388.000000   \n",
       "mean       90.937672                 2.586223                   2.397776   \n",
       "std        51.219793                 1.238415                   1.327130   \n",
       "min         0.000000                 1.000000                   1.000000   \n",
       "25%        45.000000                 2.000000                   1.000000   \n",
       "50%        90.000000                 2.000000                   2.000000   \n",
       "75%       135.000000                 3.000000                   4.000000   \n",
       "max       187.000000                14.000000                   5.000000   \n",
       "\n",
       "          trainee_id  \n",
       "count  104496.000000  \n",
       "mean     9846.168045  \n",
       "std      5706.697072  \n",
       "min         1.000000  \n",
       "25%      5041.000000  \n",
       "50%      9648.500000  \n",
       "75%     14555.250000  \n",
       "max     20098.000000  "
      ]
     },
     "execution_count": 6,
     "metadata": {},
     "output_type": "execute_result"
    }
   ],
   "source": [
    "final_df.describe()"
   ]
  },
  {
   "cell_type": "code",
   "execution_count": 7,
   "metadata": {},
   "outputs": [
    {
     "data": {
      "text/html": [
       "<div>\n",
       "<style scoped>\n",
       "    .dataframe tbody tr th:only-of-type {\n",
       "        vertical-align: middle;\n",
       "    }\n",
       "\n",
       "    .dataframe tbody tr th {\n",
       "        vertical-align: top;\n",
       "    }\n",
       "\n",
       "    .dataframe thead th {\n",
       "        text-align: right;\n",
       "    }\n",
       "</style>\n",
       "<table border=\"1\" class=\"dataframe\">\n",
       "  <thead>\n",
       "    <tr style=\"text-align: right;\">\n",
       "      <th></th>\n",
       "      <th>Total</th>\n",
       "      <th>%</th>\n",
       "    </tr>\n",
       "  </thead>\n",
       "  <tbody>\n",
       "    <tr>\n",
       "      <td>age</td>\n",
       "      <td>39520</td>\n",
       "      <td>37.82</td>\n",
       "    </tr>\n",
       "    <tr>\n",
       "      <td>city_tier</td>\n",
       "      <td>0</td>\n",
       "      <td>0.00</td>\n",
       "    </tr>\n",
       "    <tr>\n",
       "      <td>difficulty_level</td>\n",
       "      <td>0</td>\n",
       "      <td>0.00</td>\n",
       "    </tr>\n",
       "    <tr>\n",
       "      <td>education</td>\n",
       "      <td>0</td>\n",
       "      <td>0.00</td>\n",
       "    </tr>\n",
       "    <tr>\n",
       "      <td>gender</td>\n",
       "      <td>0</td>\n",
       "      <td>0.00</td>\n",
       "    </tr>\n",
       "    <tr>\n",
       "      <td>id</td>\n",
       "      <td>0</td>\n",
       "      <td>0.00</td>\n",
       "    </tr>\n",
       "    <tr>\n",
       "      <td>is_handicapped</td>\n",
       "      <td>0</td>\n",
       "      <td>0.00</td>\n",
       "    </tr>\n",
       "    <tr>\n",
       "      <td>is_pass</td>\n",
       "      <td>31349</td>\n",
       "      <td>30.00</td>\n",
       "    </tr>\n",
       "    <tr>\n",
       "      <td>program_duration</td>\n",
       "      <td>0</td>\n",
       "      <td>0.00</td>\n",
       "    </tr>\n",
       "    <tr>\n",
       "      <td>program_id</td>\n",
       "      <td>0</td>\n",
       "      <td>0.00</td>\n",
       "    </tr>\n",
       "    <tr>\n",
       "      <td>program_type</td>\n",
       "      <td>0</td>\n",
       "      <td>0.00</td>\n",
       "    </tr>\n",
       "    <tr>\n",
       "      <td>test_id</td>\n",
       "      <td>0</td>\n",
       "      <td>0.00</td>\n",
       "    </tr>\n",
       "    <tr>\n",
       "      <td>test_type</td>\n",
       "      <td>0</td>\n",
       "      <td>0.00</td>\n",
       "    </tr>\n",
       "    <tr>\n",
       "      <td>total_programs_enrolled</td>\n",
       "      <td>0</td>\n",
       "      <td>0.00</td>\n",
       "    </tr>\n",
       "    <tr>\n",
       "      <td>trainee_engagement_rating</td>\n",
       "      <td>108</td>\n",
       "      <td>0.10</td>\n",
       "    </tr>\n",
       "    <tr>\n",
       "      <td>trainee_id</td>\n",
       "      <td>0</td>\n",
       "      <td>0.00</td>\n",
       "    </tr>\n",
       "  </tbody>\n",
       "</table>\n",
       "</div>"
      ],
      "text/plain": [
       "                           Total      %\n",
       "age                        39520  37.82\n",
       "city_tier                      0   0.00\n",
       "difficulty_level               0   0.00\n",
       "education                      0   0.00\n",
       "gender                         0   0.00\n",
       "id                             0   0.00\n",
       "is_handicapped                 0   0.00\n",
       "is_pass                    31349  30.00\n",
       "program_duration               0   0.00\n",
       "program_id                     0   0.00\n",
       "program_type                   0   0.00\n",
       "test_id                        0   0.00\n",
       "test_type                      0   0.00\n",
       "total_programs_enrolled        0   0.00\n",
       "trainee_engagement_rating    108   0.10\n",
       "trainee_id                     0   0.00"
      ]
     },
     "execution_count": 7,
     "metadata": {},
     "output_type": "execute_result"
    }
   ],
   "source": [
    "#Displaying total no. of null values\n",
    "total1=final_df.isnull().sum()\n",
    "total2=final_df.isnull().count()\n",
    "Missing_value=round(((total1/total2)*100),2)\n",
    "Missing_value_df=pd.concat([total1, Missing_value], axis=1, keys=['Total', '%'])\n",
    "Missing_value_df"
   ]
  },
  {
   "cell_type": "code",
   "execution_count": 8,
   "metadata": {},
   "outputs": [
    {
     "data": {
      "text/html": [
       "<div>\n",
       "<style scoped>\n",
       "    .dataframe tbody tr th:only-of-type {\n",
       "        vertical-align: middle;\n",
       "    }\n",
       "\n",
       "    .dataframe tbody tr th {\n",
       "        vertical-align: top;\n",
       "    }\n",
       "\n",
       "    .dataframe thead th {\n",
       "        text-align: right;\n",
       "    }\n",
       "</style>\n",
       "<table border=\"1\" class=\"dataframe\">\n",
       "  <thead>\n",
       "    <tr style=\"text-align: right;\">\n",
       "      <th></th>\n",
       "      <th>age</th>\n",
       "      <th>city_tier</th>\n",
       "      <th>is_pass</th>\n",
       "      <th>program_duration</th>\n",
       "      <th>test_id</th>\n",
       "      <th>total_programs_enrolled</th>\n",
       "      <th>trainee_engagement_rating</th>\n",
       "      <th>trainee_id</th>\n",
       "    </tr>\n",
       "  </thead>\n",
       "  <tbody>\n",
       "    <tr>\n",
       "      <td>age</td>\n",
       "      <td>1.000000</td>\n",
       "      <td>-0.070272</td>\n",
       "      <td>0.073969</td>\n",
       "      <td>-0.019115</td>\n",
       "      <td>-0.024096</td>\n",
       "      <td>-0.070354</td>\n",
       "      <td>0.185237</td>\n",
       "      <td>0.111596</td>\n",
       "    </tr>\n",
       "    <tr>\n",
       "      <td>city_tier</td>\n",
       "      <td>-0.070272</td>\n",
       "      <td>1.000000</td>\n",
       "      <td>-0.068663</td>\n",
       "      <td>-0.024032</td>\n",
       "      <td>-0.002392</td>\n",
       "      <td>0.017320</td>\n",
       "      <td>-0.049050</td>\n",
       "      <td>-0.011085</td>\n",
       "    </tr>\n",
       "    <tr>\n",
       "      <td>is_pass</td>\n",
       "      <td>0.073969</td>\n",
       "      <td>-0.068663</td>\n",
       "      <td>1.000000</td>\n",
       "      <td>0.003545</td>\n",
       "      <td>0.074568</td>\n",
       "      <td>-0.031695</td>\n",
       "      <td>0.197383</td>\n",
       "      <td>0.035900</td>\n",
       "    </tr>\n",
       "    <tr>\n",
       "      <td>program_duration</td>\n",
       "      <td>-0.019115</td>\n",
       "      <td>-0.024032</td>\n",
       "      <td>0.003545</td>\n",
       "      <td>1.000000</td>\n",
       "      <td>0.203368</td>\n",
       "      <td>-0.005856</td>\n",
       "      <td>0.097955</td>\n",
       "      <td>0.149458</td>\n",
       "    </tr>\n",
       "    <tr>\n",
       "      <td>test_id</td>\n",
       "      <td>-0.024096</td>\n",
       "      <td>-0.002392</td>\n",
       "      <td>0.074568</td>\n",
       "      <td>0.203368</td>\n",
       "      <td>1.000000</td>\n",
       "      <td>-0.134765</td>\n",
       "      <td>0.326308</td>\n",
       "      <td>0.148954</td>\n",
       "    </tr>\n",
       "    <tr>\n",
       "      <td>total_programs_enrolled</td>\n",
       "      <td>-0.070354</td>\n",
       "      <td>0.017320</td>\n",
       "      <td>-0.031695</td>\n",
       "      <td>-0.005856</td>\n",
       "      <td>-0.134765</td>\n",
       "      <td>1.000000</td>\n",
       "      <td>0.083041</td>\n",
       "      <td>-0.074000</td>\n",
       "    </tr>\n",
       "    <tr>\n",
       "      <td>trainee_engagement_rating</td>\n",
       "      <td>0.185237</td>\n",
       "      <td>-0.049050</td>\n",
       "      <td>0.197383</td>\n",
       "      <td>0.097955</td>\n",
       "      <td>0.326308</td>\n",
       "      <td>0.083041</td>\n",
       "      <td>1.000000</td>\n",
       "      <td>0.029881</td>\n",
       "    </tr>\n",
       "    <tr>\n",
       "      <td>trainee_id</td>\n",
       "      <td>0.111596</td>\n",
       "      <td>-0.011085</td>\n",
       "      <td>0.035900</td>\n",
       "      <td>0.149458</td>\n",
       "      <td>0.148954</td>\n",
       "      <td>-0.074000</td>\n",
       "      <td>0.029881</td>\n",
       "      <td>1.000000</td>\n",
       "    </tr>\n",
       "  </tbody>\n",
       "</table>\n",
       "</div>"
      ],
      "text/plain": [
       "                                age  city_tier   is_pass  program_duration  \\\n",
       "age                        1.000000  -0.070272  0.073969         -0.019115   \n",
       "city_tier                 -0.070272   1.000000 -0.068663         -0.024032   \n",
       "is_pass                    0.073969  -0.068663  1.000000          0.003545   \n",
       "program_duration          -0.019115  -0.024032  0.003545          1.000000   \n",
       "test_id                   -0.024096  -0.002392  0.074568          0.203368   \n",
       "total_programs_enrolled   -0.070354   0.017320 -0.031695         -0.005856   \n",
       "trainee_engagement_rating  0.185237  -0.049050  0.197383          0.097955   \n",
       "trainee_id                 0.111596  -0.011085  0.035900          0.149458   \n",
       "\n",
       "                            test_id  total_programs_enrolled  \\\n",
       "age                       -0.024096                -0.070354   \n",
       "city_tier                 -0.002392                 0.017320   \n",
       "is_pass                    0.074568                -0.031695   \n",
       "program_duration           0.203368                -0.005856   \n",
       "test_id                    1.000000                -0.134765   \n",
       "total_programs_enrolled   -0.134765                 1.000000   \n",
       "trainee_engagement_rating  0.326308                 0.083041   \n",
       "trainee_id                 0.148954                -0.074000   \n",
       "\n",
       "                           trainee_engagement_rating  trainee_id  \n",
       "age                                         0.185237    0.111596  \n",
       "city_tier                                  -0.049050   -0.011085  \n",
       "is_pass                                     0.197383    0.035900  \n",
       "program_duration                            0.097955    0.149458  \n",
       "test_id                                     0.326308    0.148954  \n",
       "total_programs_enrolled                     0.083041   -0.074000  \n",
       "trainee_engagement_rating                   1.000000    0.029881  \n",
       "trainee_id                                  0.029881    1.000000  "
      ]
     },
     "execution_count": 8,
     "metadata": {},
     "output_type": "execute_result"
    }
   ],
   "source": [
    "corr = final_df.corr()\n",
    "corr"
   ]
  },
  {
   "cell_type": "code",
   "execution_count": 9,
   "metadata": {},
   "outputs": [
    {
     "name": "stderr",
     "output_type": "stream",
     "text": [
      "C:\\Users\\Muthu\\Anaconda3\\lib\\site-packages\\numpy\\lib\\histograms.py:824: RuntimeWarning: invalid value encountered in greater_equal\n",
      "  keep = (tmp_a >= first_edge)\n",
      "C:\\Users\\Muthu\\Anaconda3\\lib\\site-packages\\numpy\\lib\\histograms.py:825: RuntimeWarning: invalid value encountered in less_equal\n",
      "  keep &= (tmp_a <= last_edge)\n",
      "C:\\Users\\Muthu\\Anaconda3\\lib\\site-packages\\statsmodels\\nonparametric\\kde.py:447: RuntimeWarning: invalid value encountered in greater\n",
      "  X = X[np.logical_and(X > clip[0], X < clip[1])] # won't work for two columns.\n",
      "C:\\Users\\Muthu\\Anaconda3\\lib\\site-packages\\statsmodels\\nonparametric\\kde.py:447: RuntimeWarning: invalid value encountered in less\n",
      "  X = X[np.logical_and(X > clip[0], X < clip[1])] # won't work for two columns.\n"
     ]
    },
    {
     "data": {
      "text/plain": [
       "<matplotlib.axes._subplots.AxesSubplot at 0xcfe8ef0>"
      ]
     },
     "execution_count": 9,
     "metadata": {},
     "output_type": "execute_result"
    },
    {
     "data": {
      "image/png": "[encoded data removed]",
      "text/plain": [
       "<Figure size 432x288 with 1 Axes>"
      ]
     },
     "metadata": {
      "needs_background": "light"
     },
     "output_type": "display_data"
    }
   ],
   "source": [
    "sns.distplot(final_df['age'],bins=50)"
   ]
  },
  {
   "cell_type": "code",
   "execution_count": 10,
   "metadata": {},
   "outputs": [
    {
     "name": "stdout",
     "output_type": "stream",
     "text": [
      "Unique value of  age : 39565\n",
      "Unique value of  city_tier : 4\n",
      "Unique value of  difficulty_level : 4\n",
      "Unique value of  education : 5\n",
      "Unique value of  gender : 2\n",
      "Unique value of  id : 104496\n",
      "Unique value of  is_handicapped : 2\n",
      "Unique value of  is_pass : 31351\n",
      "Unique value of  program_duration : 10\n",
      "Unique value of  program_id : 22\n",
      "Unique value of  program_type : 7\n",
      "Unique value of  test_id : 188\n",
      "Unique value of  test_type : 2\n",
      "Unique value of  total_programs_enrolled : 13\n",
      "Unique value of  trainee_engagement_rating : 113\n",
      "Unique value of  trainee_id : 19422\n"
     ]
    }
   ],
   "source": [
    "column=final_df.columns\n",
    "for x in column:\n",
    "    unique_values= len(np.unique(final_df[x],return_counts=False))\n",
    "    print('Unique value of ' , x , ':' ,unique_values)"
   ]
  },
  {
   "cell_type": "code",
   "execution_count": 11,
   "metadata": {},
   "outputs": [],
   "source": [
    "final_df=final_df.drop(['id'],axis=1)"
   ]
  },
  {
   "cell_type": "code",
   "execution_count": 12,
   "metadata": {},
   "outputs": [],
   "source": [
    "#filling empty values\n",
    "final_df['age'] = final_df['age'].fillna(final_df.age.mean())\n",
    "final_df['trainee_engagement_rating'] = final_df['trainee_engagement_rating'].fillna(final_df.trainee_engagement_rating.median())"
   ]
  },
  {
   "cell_type": "code",
   "execution_count": 13,
   "metadata": {},
   "outputs": [
    {
     "data": {
      "text/plain": [
       "0         3\n",
       "1         3\n",
       "2         3\n",
       "3         3\n",
       "4         3\n",
       "         ..\n",
       "104491    3\n",
       "104492    3\n",
       "104493    3\n",
       "104494    2\n",
       "104495    2\n",
       "Name: New_Age, Length: 104496, dtype: int64"
      ]
     },
     "execution_count": 13,
     "metadata": {},
     "output_type": "execute_result"
    }
   ],
   "source": [
    "final_df['age'] = final_df['age'].astype(float)\n",
    "final_df.loc[final_df['age'] < 18, 'Categories'] = 'Children'\n",
    "final_df.loc[(final_df['age'] >= 18) & (final_df['age'] <= 35), 'Categories'] = 'Young Adults'\n",
    "final_df.loc[(final_df['age'] > 35) & (final_df['age'] <= 55), 'Categories'] = 'Middle-Aged Adults'\n",
    "final_df.loc[final_df['age'] > 55, 'Categories'] = 'Older Adults'\n",
    "final_df['Categories']\n",
    "Age_Mapping = {'Children' : 1, 'Young Adults' : 2, 'Middle-Aged Adults' : 3, 'Older Adults' : 4}\n",
    "final_df['New_Age'] = final_df['Categories'].map(Age_Mapping)\n",
    "final_df['New_Age']"
   ]
  },
  {
   "cell_type": "code",
   "execution_count": 14,
   "metadata": {},
   "outputs": [],
   "source": [
    "final_df=final_df.drop(['Categories','age','test_id','trainee_id'],axis=1)"
   ]
  },
  {
   "cell_type": "code",
   "execution_count": 15,
   "metadata": {},
   "outputs": [],
   "source": [
    "Duration_Mapping={117 : 1, 120 : 2, 121 : 3, 122 : 4, 130 : 5, 131 : 6, 133 : 7, 134 : 8, 135 : 9, 136 : 10}\n",
    "final_df['program_duration']=final_df['program_duration'].map(Duration_Mapping)"
   ]
  },
  {
   "cell_type": "code",
   "execution_count": 16,
   "metadata": {},
   "outputs": [],
   "source": [
    "final_df=pd.get_dummies(final_df,columns=['difficulty_level','education','gender','program_id','program_type','test_type','is_handicapped'])"
   ]
  },
  {
   "cell_type": "code",
   "execution_count": 18,
   "metadata": {},
   "outputs": [],
   "source": [
    "final_df['trainee_engagement_rating']=final_df['trainee_engagement_rating'].astype(int)"
   ]
  },
  {
   "cell_type": "code",
   "execution_count": 19,
   "metadata": {},
   "outputs": [],
   "source": [
    "Test_data = final_df.iloc[:31349,:]\n",
    "Train_data = final_df.iloc[31349:,:]"
   ]
  },
  {
   "cell_type": "code",
   "execution_count": 20,
   "metadata": {},
   "outputs": [],
   "source": [
    "Final_test = Test_data.drop(['is_pass'],axis=1)\n",
    "train_Target = Train_data['is_pass'].astype(int)\n",
    "train_Predictors = Train_data.drop(['is_pass'],axis=1)"
   ]
  },
  {
   "cell_type": "code",
   "execution_count": 21,
   "metadata": {},
   "outputs": [],
   "source": [
    "from sklearn.model_selection import train_test_split\n",
    "x_train,x_test,y_train,y_test = train_test_split(train_Predictors, train_Target, test_size=0.25, random_state=30)"
   ]
  },
  {
   "cell_type": "code",
   "execution_count": 22,
   "metadata": {},
   "outputs": [],
   "source": [
    "# Module Algorithms\n",
    "from sklearn.linear_model import LogisticRegression\n",
    "from sklearn.tree import DecisionTreeClassifier\n",
    "from sklearn.ensemble import RandomForestClassifier\n",
    "from sklearn.neighbors import KNeighborsClassifier\n",
    "from sklearn.naive_bayes import GaussianNB\n",
    "\n",
    "from sklearn.metrics import accuracy_score\n",
    "from sklearn.model_selection import RandomizedSearchCV\n"
   ]
  },
  {
   "cell_type": "code",
   "execution_count": 23,
   "metadata": {},
   "outputs": [],
   "source": [
    "#Decision Tree\n",
    "Decision_Tree = DecisionTreeClassifier()\n",
    "para_tune = {'max_depth' : [10,100,500,900,None], \n",
    "             'min_samples_leaf':[1,3,4,9], \n",
    "             'criterion':['gini', 'entropy']}\n",
    "tree = RandomizedSearchCV(Decision_Tree, para_tune, cv=5)\n",
    "tree.fit(x_train, y_train)\n",
    "y_pred_DT = tree.predict_proba(x_test)[:,1]"
   ]
  },
  {
   "cell_type": "code",
   "execution_count": 24,
   "metadata": {},
   "outputs": [
    {
     "name": "stderr",
     "output_type": "stream",
     "text": [
      "C:\\Users\\Muthu\\Anaconda3\\lib\\site-packages\\sklearn\\ensemble\\forest.py:245: FutureWarning: The default value of n_estimators will change from 10 in version 0.20 to 100 in 0.22.\n",
      "  \"10 in version 0.20 to 100 in 0.22.\", FutureWarning)\n"
     ]
    }
   ],
   "source": [
    "#Random Forest\n",
    "RF = RandomForestClassifier()\n",
    "RF.fit(x_train,y_train)\n",
    "y_pred_RF = RF.predict_proba(x_test)[:,1]"
   ]
  },
  {
   "cell_type": "code",
   "execution_count": 25,
   "metadata": {},
   "outputs": [
    {
     "name": "stderr",
     "output_type": "stream",
     "text": [
      "C:\\Users\\Muthu\\Anaconda3\\lib\\site-packages\\sklearn\\linear_model\\logistic.py:432: FutureWarning: Default solver will be changed to 'lbfgs' in 0.22. Specify a solver to silence this warning.\n",
      "  FutureWarning)\n"
     ]
    }
   ],
   "source": [
    "#Logistic Regression\n",
    "LogReg = LogisticRegression()\n",
    "LogReg.fit(x_train,y_train)\n",
    "y_pred_LR = LogReg.predict_proba(x_test)[:,1]"
   ]
  },
  {
   "cell_type": "code",
   "execution_count": 26,
   "metadata": {},
   "outputs": [],
   "source": [
    "#KNN\n",
    "KNN=KNeighborsClassifier()\n",
    "KNN.fit(x_train,y_train)\n",
    "y_pred_KNN = KNN.predict_proba(x_test)[:,1]"
   ]
  },
  {
   "cell_type": "code",
   "execution_count": 27,
   "metadata": {},
   "outputs": [],
   "source": [
    "#GaussianNB\n",
    "NB = GaussianNB()\n",
    "NB.fit(x_train,y_train)\n",
    "y_pred_NB= NB.predict_proba(x_test)[:,1]"
   ]
  },
  {
   "cell_type": "code",
   "execution_count": 28,
   "metadata": {},
   "outputs": [
    {
     "data": {
      "text/plain": [
       "\"#Showing all models accuracy\\nTree_acc = accuracy_score(y_test, y_pred_DT)\\nRF_acc = accuracy_score(y_test, y_pred_RF)\\nreg_acc = accuracy_score(y_test, y_pred_LR)\\nKNN_acc = accuracy_score(y_test, y_pred_KNN)\\nNB_acc = accuracy_score(y_test, y_pred_NB)\\n\\nResult = pd.DataFrame({\\n        'Models' : ['Logistic Regression', 'Decision Tree', 'Random Forest', 'KNN', 'Gaussian'],\\n        'Accuracy Score' : [reg_acc, Tree_acc, RF_acc, KNN_acc, NB_acc]\\n        })\\nResult.sort_values(by='Accuracy Score', ascending=False)\\n\""
      ]
     },
     "execution_count": 28,
     "metadata": {},
     "output_type": "execute_result"
    }
   ],
   "source": [
    "'''#Showing all models accuracy\n",
    "Tree_acc = accuracy_score(y_test, y_pred_DT)\n",
    "RF_acc = accuracy_score(y_test, y_pred_RF)\n",
    "reg_acc = accuracy_score(y_test, y_pred_LR)\n",
    "KNN_acc = accuracy_score(y_test, y_pred_KNN)\n",
    "NB_acc = accuracy_score(y_test, y_pred_NB)\n",
    "\n",
    "Result = pd.DataFrame({\n",
    "        'Models' : ['Logistic Regression', 'Decision Tree', 'Random Forest', 'KNN', 'Gaussian'],\n",
    "        'Accuracy Score' : [reg_acc, Tree_acc, RF_acc, KNN_acc, NB_acc]\n",
    "        })\n",
    "Result.sort_values(by='Accuracy Score', ascending=False)\n",
    "'''"
   ]
  },
  {
   "cell_type": "code",
   "execution_count": 29,
   "metadata": {},
   "outputs": [
    {
     "data": {
      "text/plain": [
       "\"from sklearn.metrics import classification_report\\nfrom sklearn.metrics import precision_score, recall_score\\nLR=classification_report(y_test,y_pred_LR)\\nDT=classification_report(y_test,y_pred_DT)\\nRF=classification_report(y_test,y_pred_RF)\\nKNN=classification_report(y_test,y_pred_KNN)\\nNB=classification_report(y_test,y_pred_NB)\\nprint('LR', LR)\\nprint('DT',DT)\\nprint('RF', RF)\\nprint('KNN',KNN)\\nprint('NB',NB)\\n\\nprint('Precision : ', precision_score(y_test, y_pred_LR))\\nprint('Recall : ', recall_score(y_test, y_pred_LR))\\n\\nprint('Precision : ', precision_score(y_test, y_pred_DT))\\nprint('Recall : ', recall_score(y_test, y_pred_DT))\""
      ]
     },
     "execution_count": 29,
     "metadata": {},
     "output_type": "execute_result"
    }
   ],
   "source": [
    "'''from sklearn.metrics import classification_report\n",
    "from sklearn.metrics import precision_score, recall_score\n",
    "LR=classification_report(y_test,y_pred_LR)\n",
    "DT=classification_report(y_test,y_pred_DT)\n",
    "RF=classification_report(y_test,y_pred_RF)\n",
    "KNN=classification_report(y_test,y_pred_KNN)\n",
    "NB=classification_report(y_test,y_pred_NB)\n",
    "print('LR', LR)\n",
    "print('DT',DT)\n",
    "print('RF', RF)\n",
    "print('KNN',KNN)\n",
    "print('NB',NB)\n",
    "\n",
    "print('Precision : ', precision_score(y_test, y_pred_LR))\n",
    "print('Recall : ', recall_score(y_test, y_pred_LR))\n",
    "\n",
    "print('Precision : ', precision_score(y_test, y_pred_DT))\n",
    "print('Recall : ', recall_score(y_test, y_pred_DT))'''"
   ]
  },
  {
   "cell_type": "code",
   "execution_count": 30,
   "metadata": {},
   "outputs": [],
   "source": [
    "from sklearn.metrics import roc_curve\n",
    "from sklearn.metrics import roc_auc_score\n",
    "from sklearn.metrics import auc"
   ]
  },
  {
   "cell_type": "code",
   "execution_count": 31,
   "metadata": {},
   "outputs": [
    {
     "data": {
      "image/png": "[encoded data removed]",
      "text/plain": [
       "<Figure size 500x500 with 1 Axes>"
      ]
     },
     "metadata": {
      "needs_background": "light"
     },
     "output_type": "display_data"
    }
   ],
   "source": [
    "roc_auc_LR = roc_auc_score(y_test, y_pred_LR)\n",
    "LR_fpr, LR_tpr, threshold = roc_curve(y_test, y_pred_LR)\n",
    "auc_lr=auc(LR_fpr,LR_tpr)\n",
    "\n",
    "plt.figure(figsize=(5,5),dpi=100)\n",
    "plt.plot(LR_fpr,LR_tpr,linestyle='--', label='Logistic regression (auc = %0.3f)' % auc_lr)\n",
    "\n",
    "plt.xlabel('False positive rate')\n",
    "plt.ylabel('True positive rate')\n",
    "\n",
    "roc_auc_DT = roc_auc_score(y_test, y_pred_DT)\n",
    "DT_fpr, DT_tpr, threshold = roc_curve(y_test, y_pred_DT)\n",
    "auc_DT=auc(DT_fpr,DT_tpr)\n",
    "\n",
    "roc_auc_RF = roc_auc_score(y_test, y_pred_RF)\n",
    "RF_fpr, RF_tpr, threshold = roc_curve(y_test, y_pred_RF)\n",
    "auc_RF=auc(RF_fpr,RF_tpr)\n",
    "\n",
    "roc_auc_KNN = roc_auc_score(y_test, y_pred_KNN)\n",
    "KNN_fpr, KNN_tpr, threshold = roc_curve(y_test, y_pred_KNN)\n",
    "auc_KNN=auc(KNN_fpr,KNN_tpr)\n",
    "\n",
    "roc_auc_NB = roc_auc_score(y_test, y_pred_NB)\n",
    "NB_fpr, NB_tpr, threshold = roc_curve(y_test, y_pred_NB)\n",
    "auc_NB=auc(NB_fpr,NB_tpr)\n",
    "\n",
    "plt.plot(DT_fpr,DT_tpr,marker='.', label='Decision Tree (auc = %0.3f)' % auc_DT)\n",
    "plt.plot(RF_fpr,RF_tpr,linestyle=':', label='Random Forest (auc = %0.3f)' % auc_RF)\n",
    "plt.plot(KNN_fpr,KNN_tpr,linestyle='-', label='KNN (auc = %0.3f)' % auc_KNN)\n",
    "plt.plot(NB_fpr,NB_tpr,linestyle='--', label='GaussianNB (auc = %0.3f)' % auc_NB)\n",
    "plt.legend()\n",
    "plt.show()\n"
   ]
  },
  {
   "cell_type": "code",
   "execution_count": 33,
   "metadata": {},
   "outputs": [],
   "source": [
    "#Logistic Regression final submission file\n",
    "Ypred_df = pd.DataFrame(LogReg.predict_proba(Final_test)[:,1])\n",
    "sub=pd.read_csv('G:/Data science material/Additional - Projects/certifications holder/Database/Input files/test_wF0Ps6O.csv')\n",
    "Submission = pd.concat([sub['id'],Ypred_df],axis=1)\n",
    "Submission.columns = ['id','is_pass']\n",
    "Submission.to_csv('G:/Data science material/Additional - Projects/certifications holder/Database/Final test split/Logistic Submission.csv')"
   ]
  },
  {
   "cell_type": "code",
   "execution_count": null,
   "metadata": {},
   "outputs": [],
   "source": []
  }
 ],
 "metadata": {
  "kernelspec": {
   "display_name": "Python 3",
   "language": "python",
   "name": "python3"
  },
  "language_info": {
   "codemirror_mode": {
    "name": "ipython",
    "version": 3
   },
   "file_extension": ".py",
   "mimetype": "text/x-python",
   "name": "python",
   "nbconvert_exporter": "python",
   "pygments_lexer": "ipython3",
   "version": "3.7.6"
  }
 },
 "nbformat": 4,
 "nbformat_minor": 2
}
